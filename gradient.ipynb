{
 "cells": [
  {
   "cell_type": "code",
   "execution_count": 18,
   "metadata": {},
   "outputs": [
    {
     "name": "stdout",
     "output_type": "stream",
     "text": [
      "Enter the coefficients a, b, c, d:\n",
      "The Equation is 2*x**3 + 2*x**2 + 1*x + 1\n",
      "The Solution for x is: -0.3443\n"
     ]
    }
   ],
   "source": [
    "import numpy as np\n",
    "\n",
    "def cubic_equation(a, b, c, d):\n",
    "    #setting variables\n",
    "    x = np.random.rand()\n",
    "    learning_rate = 0.01\n",
    "    n = 100\n",
    "\n",
    "    #Stochastic Gradient Descent\n",
    "    for i in range(n):\n",
    "        \n",
    "        grad = 3 * a * x**2 + 2 * b * x + c\n",
    "        \n",
    "        #applying ReLU\n",
    "        grad = max(0, grad)\n",
    "\n",
    "        # Update x using SGD\n",
    "        x = x-learning_rate * grad\n",
    "\n",
    "    return x\n",
    "\n",
    "#reading and displaying inputs\n",
    "print(\"Enter the coefficients a, b, c, d:\")\n",
    "a, b, c, d = map(int, input().split())\n",
    "\n",
    "print(f\"The Equation is {a}*x**3 + {b}*x**2 + {c}*x + {d}\")\n",
    "\n",
    "#calling function\n",
    "solution = cubic_equation(a, b, c, d)\n",
    "\n",
    "#result\n",
    "print(f\"The Solution for x is: {solution:.4f}\")\n"
   ]
  }
 ],
 "metadata": {
  "language_info": {
   "name": "python"
  }
 },
 "nbformat": 4,
 "nbformat_minor": 2
}
